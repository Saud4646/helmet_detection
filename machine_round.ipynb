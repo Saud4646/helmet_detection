#training

from ultralytics import YOLO

model = YOLO("yolov8m.pt")  
results = model.train(data="data.yaml", epochs=20, imgsz=640)

#testing

from ultralytics import YOLO

model = YOLO(r"best 7.pt")

model.predict(r"testing_3.mp4", save=True, imgsz=320, conf=0.5)
