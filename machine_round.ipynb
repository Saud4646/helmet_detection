from ultralytics import YOLO

model = YOLO(r"best 7.pt")

model.predict(r"testing_3.mp4", save=True, imgsz=320, conf=0.5)
